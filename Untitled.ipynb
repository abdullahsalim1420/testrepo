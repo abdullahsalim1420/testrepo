{
 "cells": [
  {
   "cell_type": "code",
   "execution_count": 23,
   "id": "eef9963a",
   "metadata": {
    "scrolled": true
   },
   "outputs": [
    {
     "data": {
      "text/plain": [
       "4.0"
      ]
     },
     "execution_count": 23,
     "metadata": {},
     "output_type": "execute_result"
    }
   ],
   "source": [
    "import math\n",
    "sqrt(16)"
   ]
  },
  {
   "cell_type": "code",
   "execution_count": 33,
   "id": "fef6c30e",
   "metadata": {},
   "outputs": [
    {
     "data": {
      "text/plain": [
       "4.0"
      ]
     },
     "execution_count": 33,
     "metadata": {},
     "output_type": "execute_result"
    }
   ],
   "source": [
    "import math as math\n",
    "math.sqrt(16)  #using math. is better than just using sqrt because there are diff sqrt functions as part of diff libraries"
   ]
  },
  {
   "cell_type": "code",
   "execution_count": 35,
   "id": "4b3d5778",
   "metadata": {},
   "outputs": [
    {
     "data": {
      "text/plain": [
       "4.0"
      ]
     },
     "execution_count": 35,
     "metadata": {},
     "output_type": "execute_result"
    }
   ],
   "source": [
    "from math import sqrt\n",
    "sqrt(16)"
   ]
  },
  {
   "cell_type": "code",
   "execution_count": 31,
   "id": "937693db",
   "metadata": {},
   "outputs": [
    {
     "data": {
      "text/plain": [
       "4.0"
      ]
     },
     "execution_count": 31,
     "metadata": {},
     "output_type": "execute_result"
    }
   ],
   "source": [
    "import math as math\n",
    "from math import sqrt #this isnt needed since i use the alias anyways next line \n",
    "math.sqrt(16)"
   ]
  },
  {
   "cell_type": "code",
   "execution_count": 29,
   "id": "a867e5d3",
   "metadata": {},
   "outputs": [],
   "source": [
    "# all of the above methods worked??"
   ]
  },
  {
   "cell_type": "code",
   "execution_count": 34,
   "id": "a8786cc1",
   "metadata": {},
   "outputs": [],
   "source": [
    "del math"
   ]
  },
  {
   "cell_type": "code",
   "execution_count": 2,
   "id": "29a6f321",
   "metadata": {},
   "outputs": [
    {
     "name": "stdout",
     "output_type": "stream",
     "text": [
      "123\n"
     ]
    }
   ],
   "source": [
    "string1 = '123456789'\n",
    "print(string1 [0:3])  #prints upto but no including #3. so itll print the positions 0,1 and 2.   #n-1"
   ]
  },
  {
   "cell_type": "code",
   "execution_count": 4,
   "id": "faf47b15",
   "metadata": {},
   "outputs": [
    {
     "name": "stdout",
     "output_type": "stream",
     "text": [
      "abc\n"
     ]
    }
   ],
   "source": [
    "string2 = 'abcdefgh'    #position  0=a  1=b  2=c  3=d\n",
    "print(string2[0:3])   "
   ]
  },
  {
   "cell_type": "code",
   "execution_count": 1,
   "id": "91388abe",
   "metadata": {},
   "outputs": [
    {
     "data": {
      "text/plain": [
       "'i went to my local masjid which is masjid us sunnah, to pray maghrib at 9 in the evening'"
      ]
     },
     "execution_count": 1,
     "metadata": {},
     "output_type": "execute_result"
    }
   ],
   "source": [
    "#% format specifier\n",
    "\n",
    "masjid = 'masjid us sunnah'\n",
    "salah = 'maghrib'\n",
    "time = 9\n",
    "\n",
    "'i went to my local masjid which is %s, to pray %s at %d in the evening'  % (masjid, salah, time)  # %d must be a NUMBER"
   ]
  },
  {
   "cell_type": "code",
   "execution_count": 3,
   "id": "57910353",
   "metadata": {},
   "outputs": [
    {
     "name": "stdout",
     "output_type": "stream",
     "text": [
      "enter the radius of a circle:5\n",
      "78.53981633974483\n"
     ]
    }
   ],
   "source": [
    "####### area of a circle\n",
    "import math as math\n",
    "r=float(input('enter the radius of a circle:'))\n",
    "area=math.pi*r**2\n",
    "print(area)"
   ]
  },
  {
   "cell_type": "code",
   "execution_count": 5,
   "id": "b03eda5b",
   "metadata": {},
   "outputs": [
    {
     "name": "stdout",
     "output_type": "stream",
     "text": [
      "enter the radius of the circle:5\n",
      "enter the height of the cylinder:10\n",
      "785.3981633974483\n"
     ]
    }
   ],
   "source": [
    "# vloume of a cylinder = pi*r**2  * h\n",
    "r=float(input('enter the radius of the circle:'))\n",
    "h=float(input('enter the height of the cylinder:'))\n",
    "# could say:  volume=math.pi*r**2 * h\n",
    "area=math.pi*r**2\n",
    "volume=area*h\n",
    "print(volume)"
   ]
  },
  {
   "cell_type": "code",
   "execution_count": 7,
   "id": "9520b242",
   "metadata": {},
   "outputs": [
    {
     "name": "stdout",
     "output_type": "stream",
     "text": [
      "insert the present value:100\n",
      "insert the rate of compounding:0.1\n",
      "insert the amount of time over which it is compounded:3\n",
      "134.9858807576003\n"
     ]
    }
   ],
   "source": [
    "## continuous compound interest\n",
    "\n",
    "import math as math\n",
    "PV=float(input('insert the present value:')) \n",
    "r=float(input('insert the rate of compounding:'))\n",
    "T=float(input('insert the amount of time over which it is compounded:'))\n",
    "t=0 \n",
    "\n",
    "\n",
    "TV=PV*math.exp(r*(T-t));  #formula for compound interest\n",
    "print(TV)"
   ]
  }
 ],
 "metadata": {
  "kernelspec": {
   "display_name": "Python 3 (ipykernel)",
   "language": "python",
   "name": "python3"
  },
  "language_info": {
   "codemirror_mode": {
    "name": "ipython",
    "version": 3
   },
   "file_extension": ".py",
   "mimetype": "text/x-python",
   "name": "python",
   "nbconvert_exporter": "python",
   "pygments_lexer": "ipython3",
   "version": "3.9.12"
  },
  "latex_envs": {
   "LaTeX_envs_menu_present": true,
   "autoclose": false,
   "autocomplete": true,
   "bibliofile": "biblio.bib",
   "cite_by": "apalike",
   "current_citInitial": 1,
   "eqLabelWithNumbers": true,
   "eqNumInitial": 1,
   "hotkeys": {
    "equation": "Ctrl-E",
    "itemize": "Ctrl-I"
   },
   "labels_anchors": false,
   "latex_user_defs": false,
   "report_style_numbering": false,
   "user_envs_cfg": false
  },
  "toc": {
   "base_numbering": 1,
   "nav_menu": {},
   "number_sections": true,
   "sideBar": true,
   "skip_h1_title": false,
   "title_cell": "Table of Contents",
   "title_sidebar": "Contents",
   "toc_cell": false,
   "toc_position": {},
   "toc_section_display": true,
   "toc_window_display": false
  },
  "varInspector": {
   "cols": {
    "lenName": 16,
    "lenType": 16,
    "lenVar": 40
   },
   "kernels_config": {
    "python": {
     "delete_cmd_postfix": "",
     "delete_cmd_prefix": "del ",
     "library": "var_list.py",
     "varRefreshCmd": "print(var_dic_list())"
    },
    "r": {
     "delete_cmd_postfix": ") ",
     "delete_cmd_prefix": "rm(",
     "library": "var_list.r",
     "varRefreshCmd": "cat(var_dic_list()) "
    }
   },
   "types_to_exclude": [
    "module",
    "function",
    "builtin_function_or_method",
    "instance",
    "_Feature"
   ],
   "window_display": false
  }
 },
 "nbformat": 4,
 "nbformat_minor": 5
}
